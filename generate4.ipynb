{
 "cells": [
  {
   "cell_type": "code",
   "execution_count": 1,
   "metadata": {},
   "outputs": [
    {
     "name": "stderr",
     "output_type": "stream",
     "text": [
      "/home/zhuominc/anaconda3/envs/dgl/lib/python3.9/site-packages/tqdm/auto.py:21: TqdmWarning: IProgress not found. Please update jupyter and ipywidgets. See https://ipywidgets.readthedocs.io/en/stable/user_install.html\n",
      "  from .autonotebook import tqdm as notebook_tqdm\n",
      "/home/zhuominc/anaconda3/envs/dgl/lib/python3.9/site-packages/transformers/utils/generic.py:441: UserWarning: torch.utils._pytree._register_pytree_node is deprecated. Please use torch.utils._pytree.register_pytree_node instead.\n",
      "  _torch_pytree._register_pytree_node(\n",
      "/home/zhuominc/anaconda3/envs/dgl/lib/python3.9/site-packages/transformers/utils/generic.py:309: UserWarning: torch.utils._pytree._register_pytree_node is deprecated. Please use torch.utils._pytree.register_pytree_node instead.\n",
      "  _torch_pytree._register_pytree_node(\n",
      "/home/zhuominc/anaconda3/envs/dgl/lib/python3.9/site-packages/transformers/utils/generic.py:309: UserWarning: torch.utils._pytree._register_pytree_node is deprecated. Please use torch.utils._pytree.register_pytree_node instead.\n",
      "  _torch_pytree._register_pytree_node(\n",
      "/home/zhuominc/anaconda3/envs/dgl/lib/python3.9/site-packages/huggingface_hub/file_download.py:1132: FutureWarning: `resume_download` is deprecated and will be removed in version 1.0.0. Downloads always resume when possible. If you want to force a new download, use `force_download=True`.\n",
      "  warnings.warn(\n",
      "Loading checkpoint shards: 100%|██████████| 30/30 [00:42<00:00,  1.42s/it]\n",
      "/home/zhuominc/anaconda3/envs/dgl/lib/python3.9/site-packages/huggingface_hub/file_download.py:1132: FutureWarning: `resume_download` is deprecated and will be removed in version 1.0.0. Downloads always resume when possible. If you want to force a new download, use `force_download=True`.\n",
      "  warnings.warn(\n",
      "Special tokens have been added in the vocabulary, make sure the associated word embeddings are fine-tuned or trained.\n"
     ]
    }
   ],
   "source": [
    "from llama_quest import LlamaForCausalLM\n",
    "#from transformers import LlamaForCausalLM\n",
    "import torch\n",
    "import os\n",
    "os.environ[\"CUDA_VISIBLE_DEVICES\"] = \"4,5,6,7\"\n",
    "model_name = \"meta-llama/Meta-Llama-3-70B-Instruct\"\n",
    "hf_llm = LlamaForCausalLM.from_pretrained(model_name, device_map=\"auto\", torch_dtype=torch.bfloat16)\n",
    "from transformers import AutoTokenizer\n",
    "tokenizer = AutoTokenizer.from_pretrained(model_name, use_fast=False)\n"
   ]
  },
  {
   "cell_type": "code",
   "execution_count": 15,
   "metadata": {},
   "outputs": [],
   "source": [
    "import numpy as np\n",
    "import random\n",
    "def setup_seed(seed):\n",
    "     torch.manual_seed(seed)\n",
    "     torch.cuda.manual_seed_all(seed)\n",
    "     np.random.seed(seed)\n",
    "     random.seed(seed)\n",
    "     torch.backends.cudnn.deterministic = True\n",
    "# 设置随机数种子\n",
    "setup_seed(20)\n",
    "hf_llm = hf_llm.eval()\n",
    "hf_llm.config.K = 16\n",
    "hf_llm.config.L = 0.2\n",
    "hf_llm.config.cache_mode = \"anns_es\"\n",
    "hf_llm.config.window = 8"
   ]
  },
  {
   "cell_type": "code",
   "execution_count": 32,
   "metadata": {},
   "outputs": [
    {
     "name": "stdout",
     "output_type": "stream",
     "text": [
      "tensor([[128000,    198,   2374,     25,   1472,    527,    459,  18328,     13,\n",
      "            720,   1502,     25,  22691,      0,    358,   1390,    311,   1296,\n",
      "            701,  21651,   5845,     13,   4718,   3465,    374,    311,   6381,\n",
      "            279,  37072,   3465,     13,    578,   3575,    369,    499,    374,\n",
      "            512,  10770,    220,     16,    551,    571,  12889,     85,     15,\n",
      "            284,    220,     16,  20761,     31,     26,     31,  12889,   7128,\n",
      "            348,     16,    284,    220,     16,  20761,     31,    280,  10770,\n",
      "            220,     17,    551,    571,  12889,   7128,    348,     17,    284,\n",
      "            220,     19,  20761,     31,     26,     31,  12889,   7128,    348,\n",
      "             18,    284,    220,     17,  20761,     31,    280,  10770,    220,\n",
      "             18,    551,    571,  12889,   7128,    348,     19,    284,    220,\n",
      "             19,  20761,     31,     26,     31,  12889,   7128,    348,     20,\n",
      "            284,    220,     16,  20761,     31,    280,    334,  14924,     25,\n",
      "           1035,   6854,    499,   3371,    757,   1268,   1690,   7482,    527,\n",
      "           6273,    311,    220,     16,    304,   1884,  32272,    304,    364,\n",
      "          12889,   2511,   5709,     30,    578,   2819,    315,   1884,   7482,\n",
      "            649,    387,   1511,   1603,   7419,    439,    814,    527,   6926,\n",
      "             13,    720,   5618,  11886,    279,   3575,    304,    264,   3094,\n",
      "          14656,  30308,   1648,    627,  72803,     25,    720]],\n",
      "       device='cuda:0') 169\n"
     ]
    }
   ],
   "source": [
    "input_text = \"\"\"\n",
    "System: You are an assistant. \n",
    "User: Hello! I want to test your mathematic ability. Your task is to finish the mathematical task. The problem for you is:\n",
    "Condition 1 : @<<<v0 = 1>>>@ and @<<<assign v1 = 1>>>@;\n",
    "Condition 2 : @<<<assign v2 = 4>>>@ and @<<<assign v3 = 2>>>@;\n",
    "Condition 3 : @<<<assign v4 = 4>>>@ and @<<<assign v5 = 1>>>@;\n",
    "**Question:**\n",
    "Can you tell me how many variables are equal to 1 in those assignments in '<<<>>>'? The values of those variables can be used before definition as they are constant. \n",
    "Please solve the problem in a step-by-step way.\n",
    "Assistant: \n",
    "\"\"\"\n",
    "input_tokens = tokenizer.encode(input_text, return_tensors=\"pt\").cuda()\n",
    "print(input_tokens, len(input_tokens[0]))"
   ]
  },
  {
   "cell_type": "code",
   "execution_count": 33,
   "metadata": {},
   "outputs": [
    {
     "name": "stderr",
     "output_type": "stream",
     "text": [
      "The attention mask and the pad token id were not set. As a consequence, you may observe unexpected behavior. Please pass your input's `attention_mask` to obtain reliable results.\n",
      "Setting `pad_token_id` to `eos_token_id`:128001 for open-end generation.\n"
     ]
    },
    {
     "name": "stdout",
     "output_type": "stream",
     "text": [
      "\n",
      "System: You are an assistant. \n",
      "User: Hello! I want to test your mathematic ability. Your task is to finish the mathematical task. The problem for you is:\n",
      "Condition 1 : @<<<v0 = 1>>>@;@<<<assign v1 = 1>>>@;\n",
      "Condition 2 : @<<<assign v2 = 4>>>@;@<<<assign v3 = 2>>>@;\n",
      "Condition 3 : @<<<assign v4 = 4>>>@;@<<<assign v5 = 1>>>@;\n",
      "**Question:**\n",
      "Can you tell me how many variables are equal to 1 in those assignments in '<<<>>>'? The values of those variables can be used before definition as they are constant. \n",
      "Please solve the problem in a step-by-step way.\n",
      "Assistant: \n",
      "I'd be happy to help you with that. Here's the step-by-step solution:\n",
      "\n",
      "Step 1: Identify the assignments in the given code:\n",
      "\n",
      "We have three sets of assignments:\n",
      "\n",
      "1. @<<<v0 = 1>>>@;\n",
      "2. @<<<assign v2 = 4>>>@; @<<<assign v3 = 2>>>@;\n",
      "3. @<<<assign v4 = 4>>>@; @<<<assign v5 = 1>>>@;\n",
      "\n",
      "Step 2: Identify the variables with a value of 1:\n",
      "\n",
      "From the assignments, we can see that the variables with a value of 1 are:\n",
      "\n",
      "* v0\n",
      "* v5\n",
      "\n",
      "Step 3: Count the number of variables with a value of 1:\n",
      "\n",
      "There are 2 variables with a value of 1: v0 and v5.\n",
      "\n",
      "Therefore, the answer is 2.\n"
     ]
    }
   ],
   "source": [
    "output = hf_llm.generate(inputs=input_tokens.cuda(), do_sample=False, max_new_tokens=1024)\n",
    "output_text = tokenizer.decode(output[0], skip_special_tokens=True)\n",
    "print(output_text)"
   ]
  }
 ],
 "metadata": {
  "kernelspec": {
   "display_name": "dgl",
   "language": "python",
   "name": "python3"
  },
  "language_info": {
   "codemirror_mode": {
    "name": "ipython",
    "version": 3
   },
   "file_extension": ".py",
   "mimetype": "text/x-python",
   "name": "python",
   "nbconvert_exporter": "python",
   "pygments_lexer": "ipython3",
   "version": "3.9.19"
  }
 },
 "nbformat": 4,
 "nbformat_minor": 2
}
