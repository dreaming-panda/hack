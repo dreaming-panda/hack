{
 "cells": [
  {
   "cell_type": "code",
   "execution_count": 1,
   "metadata": {},
   "outputs": [
    {
     "name": "stderr",
     "output_type": "stream",
     "text": [
      "/home/zhuominc/anaconda3/envs/dgl/lib/python3.9/site-packages/tqdm/auto.py:21: TqdmWarning: IProgress not found. Please update jupyter and ipywidgets. See https://ipywidgets.readthedocs.io/en/stable/user_install.html\n",
      "  from .autonotebook import tqdm as notebook_tqdm\n",
      "/home/zhuominc/anaconda3/envs/dgl/lib/python3.9/site-packages/transformers/utils/generic.py:441: UserWarning: torch.utils._pytree._register_pytree_node is deprecated. Please use torch.utils._pytree.register_pytree_node instead.\n",
      "  _torch_pytree._register_pytree_node(\n",
      "/home/zhuominc/anaconda3/envs/dgl/lib/python3.9/site-packages/transformers/utils/generic.py:309: UserWarning: torch.utils._pytree._register_pytree_node is deprecated. Please use torch.utils._pytree.register_pytree_node instead.\n",
      "  _torch_pytree._register_pytree_node(\n",
      "/home/zhuominc/anaconda3/envs/dgl/lib/python3.9/site-packages/transformers/utils/generic.py:309: UserWarning: torch.utils._pytree._register_pytree_node is deprecated. Please use torch.utils._pytree.register_pytree_node instead.\n",
      "  _torch_pytree._register_pytree_node(\n",
      "/home/zhuominc/anaconda3/envs/dgl/lib/python3.9/site-packages/huggingface_hub/file_download.py:1132: FutureWarning: `resume_download` is deprecated and will be removed in version 1.0.0. Downloads always resume when possible. If you want to force a new download, use `force_download=True`.\n",
      "  warnings.warn(\n",
      "Loading checkpoint shards: 100%|██████████| 30/30 [00:26<00:00,  1.12it/s]\n"
     ]
    }
   ],
   "source": [
    "from llama_sim import LlamaForCausalLM\n",
    "#from transformers import LlamaForCausalLM\n",
    "import torch\n",
    "import os\n",
    "os.environ[\"CUDA_VISIBLE_DEVICES\"] = \"0,1,2,3,4,5\"\n",
    "hf_llm = LlamaForCausalLM.from_pretrained(\"meta-llama/Meta-Llama-3-70B-Instruct\", device_map=\"auto\", torch_dtype=torch.bfloat16)\n",
    "\n"
   ]
  },
  {
   "cell_type": "code",
   "execution_count": 9,
   "metadata": {},
   "outputs": [
    {
     "name": "stderr",
     "output_type": "stream",
     "text": [
      "/home/zhuominc/anaconda3/envs/dgl/lib/python3.9/site-packages/huggingface_hub/file_download.py:1132: FutureWarning: `resume_download` is deprecated and will be removed in version 1.0.0. Downloads always resume when possible. If you want to force a new download, use `force_download=True`.\n",
      "  warnings.warn(\n",
      "Special tokens have been added in the vocabulary, make sure the associated word embeddings are fine-tuned or trained.\n"
     ]
    }
   ],
   "source": [
    "import numpy as np\n",
    "import random\n",
    "def setup_seed(seed):\n",
    "     torch.manual_seed(seed)\n",
    "     torch.cuda.manual_seed_all(seed)\n",
    "     np.random.seed(seed)\n",
    "     random.seed(seed)\n",
    "     torch.backends.cudnn.deterministic = True\n",
    "# 设置随机数种子\n",
    "setup_seed(20)\n",
    "hf_llm = hf_llm.eval()\n",
    "hf_llm.config.K = 12\n",
    "hf_llm.config.L = 150\n",
    "hf_llm.config.cache_mode = \"anns_es\"\n",
    "hf_llm.config.window = 16\n",
    "hf_llm.set_sparse_attn(sparse=0.05, random_sparse=0.2, window_size=16, kernel_size=5)\n",
    "from transformers import AutoTokenizer\n",
    "tokenizer = AutoTokenizer.from_pretrained(\"meta-llama/Meta-Llama-3-70B-Instruct\", use_fast=False)"
   ]
  },
  {
   "cell_type": "code",
   "execution_count": 10,
   "metadata": {},
   "outputs": [
    {
     "name": "stdout",
     "output_type": "stream",
     "text": [
      "tensor([[128000,    198,   2374,     25,   1472,    527,    459,  18328,     13,\n",
      "           4718,   5915,    374,    311,    387,  11190,     11,  11919,    323,\n",
      "           4320,    279,   4860,    439,    810,    439,    499,    649,     13,\n",
      "            720,   1502,     25,  22691,     11,    358,   1390,    311,   1296,\n",
      "            701,  21651,   5845,     11,   6555,    311,   3449,    499,      0,\n",
      "            358,    617,    264,   3575,    369,    499,    627,     31,  12889,\n",
      "           7128,    348,     15,    284,    348,     17,    482,    220,     16,\n",
      "          20761,  19741,  12889,   7128,    348,     16,    284,    348,     17,\n",
      "            489,    220,     16,  20761,  19741,  12889,   7128,    348,     17,\n",
      "            284,    220,     16,  20761,  63899,    334,  14924,     25,   1035,\n",
      "           6854,    499,   3371,    757,    902,   7482,    527,   6273,    311,\n",
      "            220,     17,    304,   1884,  32272,    304,    364,  12889,   2511,\n",
      "           5709,     30,    578,   2819,    315,   1884,   7482,    649,    387,\n",
      "           1511,   1603,   7419,    439,    814,    527,   6926,    627,   2675,\n",
      "            649,  11886,    279,   3575,    304,    264,   3094,  14656,  30308,\n",
      "           1648,    627,  72803,     25,    720]]) 140\n"
     ]
    }
   ],
   "source": [
    "input_text = \"\"\"\n",
    "System: You are an assistant. Your goal is to be helpful, friendly and answer the questions as more as you can. \n",
    "User: Hello, I want to test your mathematic ability, nice to meet you! I have a problem for you.\n",
    "@<<<assign v0 = v2 - 1>>>@@<<<assign v1 = v2 + 1>>>@@<<<assign v2 = 1>>>@\n",
    "**Question:**\n",
    "Can you tell me which variables are equal to 2 in those assignments in '<<<>>>'? The values of those variables can be used before definition as they are constant.\n",
    "You can solve the problem in a step-by-step way.\n",
    "Assistant: \n",
    "\"\"\"\n",
    "input_tokens = tokenizer.encode(input_text, return_tensors=\"pt\")\n",
    "print(input_tokens, len(input_tokens[0]))"
   ]
  },
  {
   "cell_type": "code",
   "execution_count": 11,
   "metadata": {},
   "outputs": [
    {
     "name": "stderr",
     "output_type": "stream",
     "text": [
      "/home/zhuominc/anaconda3/envs/dgl/lib/python3.9/site-packages/transformers/generation/configuration_utils.py:389: UserWarning: `do_sample` is set to `False`. However, `temperature` is set to `0.6` -- this flag is only used in sample-based generation modes. You should set `do_sample=True` or unset `temperature`.\n",
      "  warnings.warn(\n",
      "/home/zhuominc/anaconda3/envs/dgl/lib/python3.9/site-packages/transformers/generation/configuration_utils.py:394: UserWarning: `do_sample` is set to `False`. However, `top_p` is set to `0.9` -- this flag is only used in sample-based generation modes. You should set `do_sample=True` or unset `top_p`.\n",
      "  warnings.warn(\n",
      "The attention mask and the pad token id were not set. As a consequence, you may observe unexpected behavior. Please pass your input's `attention_mask` to obtain reliable results.\n",
      "Setting `pad_token_id` to `eos_token_id`:128001 for open-end generation.\n",
      "/home/zhuominc/anaconda3/envs/dgl/lib/python3.9/site-packages/transformers/generation/utils.py:1636: UserWarning: You are calling .generate() with the `input_ids` being on a device type different than your model's device. `input_ids` is on cpu, whereas the model is on cuda. You may experience unexpected behaviors or slower generation. Please make sure that you have put `input_ids` to the correct device by calling for example input_ids = input_ids.to('cuda') before running `.generate()`.\n",
      "  warnings.warn(\n"
     ]
    }
   ],
   "source": [
    "output = hf_llm.generate(inputs=input_tokens, do_sample=False, max_new_tokens=1024)"
   ]
  },
  {
   "cell_type": "code",
   "execution_count": 12,
   "metadata": {},
   "outputs": [
    {
     "name": "stdout",
     "output_type": "stream",
     "text": [
      "\n",
      "System: You are an assistant. Your goal is to be helpful, friendly and answer the questions as more as you can. \n",
      "User: Hello, I want to test your mathematic ability, nice to meet you! I have a problem for you.\n",
      "@<<<assign v0 = v2 - 1>>>@@<<<assign v1 = v2 + 1>>>@@<<<assign v2 = 1>>>@\n",
      "**Question:**\n",
      "Can you tell me which variables are equal to 2 in those assignments in '<<<>>>'? The values of those variables can be used before definition as they are constant.\n",
      "You can solve the problem in a step-by-step way.\n",
      "Assistant: \n",
      "Nice to meet you too! I'm happy to help you with your math problem.\n",
      "\n",
      "Let's break down the assignments step by step:\n",
      "\n",
      "1. `v2 = 1` (initial value of v2 is 1)\n",
      "\n",
      "2. `v1 = v2 + 1` (substitute v2 with its current value, which is 1)\n",
      "   `v1 = 1 + 1`\n",
      "   `v1 = 2` (so, v1 is equal to 2)\n",
      "\n",
      "3. `v0 = v2 - 1` (substitute v2 with its current value, which is 1)\n",
      "   `v0 = 1 - 1`\n",
      "   `v0 = 0` (so, v0 is not equal to 2)\n",
      "\n",
      "From the above steps, we can conclude that `v1` is equal to 2.\n",
      "\n",
      "So, the answer is `v1`.\n"
     ]
    }
   ],
   "source": [
    "#print(output)\n",
    "output_text = tokenizer.decode(output[0], skip_special_tokens=True)\n",
    "print(output_text)"
   ]
  }
 ],
 "metadata": {
  "kernelspec": {
   "display_name": "dgl",
   "language": "python",
   "name": "python3"
  },
  "language_info": {
   "codemirror_mode": {
    "name": "ipython",
    "version": 3
   },
   "file_extension": ".py",
   "mimetype": "text/x-python",
   "name": "python",
   "nbconvert_exporter": "python",
   "pygments_lexer": "ipython3",
   "version": "3.9.19"
  }
 },
 "nbformat": 4,
 "nbformat_minor": 2
}
